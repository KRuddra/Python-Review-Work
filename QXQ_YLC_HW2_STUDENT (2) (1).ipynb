{
 "cells": [
  {
   "cell_type": "markdown",
   "metadata": {
    "id": "ExUXGU-CzEXO"
   },
   "source": [
    "# Homework: Week #2 \n",
    "---\n",
    "This week's homework is a chance to continue honing your python skills.\n",
    "\n",
    "You can find the syntax cheat sheet [here](https://docs.google.com/document/d/1NGD5FUzchMfVLKOAkhsUPQnaYh0dEoRVtr_A1j75jtY/edit?usp=sharing).\n",
    "\n",
    "---"
   ]
  },
  {
   "cell_type": "markdown",
   "metadata": {
    "id": "XEII7aALXP4q"
   },
   "source": [
    "#### **Exercise #1:** Create a variable named `welcome_message` and store the string \"Welcome to class!\" in it. Then print this variable."
   ]
  },
  {
   "cell_type": "code",
   "execution_count": 2,
   "metadata": {
    "id": "s40j8v7-YENe"
   },
   "outputs": [
    {
     "name": "stdout",
     "output_type": "stream",
     "text": [
      "Welcome to class!\n"
     ]
    }
   ],
   "source": [
    "welcome_message = \"Welcome to class!\"\n",
    "print(welcome_message)"
   ]
  },
  {
   "cell_type": "markdown",
   "metadata": {
    "id": "F91f5ZDuVo_g"
   },
   "source": [
    "#### **Exercise #2:** For each of the variable declarations below, say whether the name would be accepted by python or not. NOTE: You can change the text here by double clicking this cell.\n",
    "\n",
    "a. var_var_binks Accepted\n",
    "\n",
    "b. 3_musketeers Not Accepted\n",
    " \n",
    "c. puncuation_marks Accepted\n",
    " \n",
    "d. exclamation!marks Not Accepted\n",
    " \n",
    "e. thirty3 Accepted\n",
    " \n",
    "f. print Not Accepted\n",
    "\n",
    "g. quantumSuperposition Accepted"
   ]
  },
  {
   "cell_type": "markdown",
   "metadata": {
    "id": "2BJz9-uvVpGi"
   },
   "source": [
    "#### **Exercise #3:** \n",
    "\n",
    "\n",
    "You start walking to your friend's house, which is 20 minutes away, but realize half way there that you forgot something. So, you walk back to your home and then go to your friend's house.\n",
    "\n",
    "Complete the code below to calculate how long your total trip takes and print out the sentence, \"It took me [total time of trip] minutes to get here!\"."
   ]
  },
  {
   "cell_type": "code",
   "execution_count": 3,
   "metadata": {
    "id": "zKBqE7txVpGj"
   },
   "outputs": [
    {
     "name": "stdout",
     "output_type": "stream",
     "text": [
      "It took me 40 minutes to get here!\n"
     ]
    }
   ],
   "source": [
    "time_to_friend = 20\n",
    "\n",
    "total_time = str(40)\n",
    "\n",
    "print(\"It took me \" + total_time + \" minutes to get here!\")"
   ]
  },
  {
   "cell_type": "markdown",
   "metadata": {
    "id": "DYUKOJHZVpUR"
   },
   "source": [
    "#### **Exercise #4:** Your favorite musician just released a new album! It is 38 minutes long and has an average song length of 3.7 minutes.\n",
    "\n",
    "Complete the code below to determine and print the number of songs in this album."
   ]
  },
  {
   "cell_type": "code",
   "execution_count": 4,
   "metadata": {
    "id": "xGoQRePRVpUS"
   },
   "outputs": [
    {
     "name": "stdout",
     "output_type": "stream",
     "text": [
      "10.27027027027027\n"
     ]
    }
   ],
   "source": [
    "album_length = 38\n",
    "avg_song_length = 3.7\n",
    "\n",
    "num_songs = album_length / avg_song_length\n",
    "\n",
    "print(num_songs)"
   ]
  },
  {
   "cell_type": "markdown",
   "metadata": {
    "id": "WdBTuDMiVpY0"
   },
   "source": [
    "#### **Exercise #5:** You want to buy new clothes, on a budget of course! You have a budget of \\\\$100 and end up buying 3 shirts for \\\\$11 each, 4 pairs of socks for \\\\$2.57 each, and 1 pair of pants for \\\\$15.99. \n",
    "\n",
    "Complete the code below to calculate the difference between your budget and what you spent."
   ]
  },
  {
   "cell_type": "code",
   "execution_count": 5,
   "metadata": {
    "id": "Ep8m4nkcVpY1"
   },
   "outputs": [
    {
     "name": "stdout",
     "output_type": "stream",
     "text": [
      "40.73\n"
     ]
    }
   ],
   "source": [
    "budget = 100\n",
    "\n",
    "num_shirts = 3\n",
    "cost_per_shirt = 11\n",
    "num_socks = 4 \n",
    "cost_per_socks = 2.57\n",
    "num_pants = 1 \n",
    "cost_per_pants = 15.99\n",
    "\n",
    "total = 100 - (num_shirts * cost_per_shirt + num_socks * cost_per_socks + num_pants * cost_per_pants)\n",
    "\n",
    "print(total)"
   ]
  },
  {
   "cell_type": "markdown",
   "metadata": {
    "id": "ECGof-SAVpeE"
   },
   "source": [
    "#### **Exercise #6:** Copy your answer from above into the cell below. Now, modify this code to determine and print how many more socks you can get while staying under budget."
   ]
  },
  {
   "cell_type": "code",
   "execution_count": 6,
   "metadata": {
    "id": "8YdbmqUFVpeF"
   },
   "outputs": [
    {
     "name": "stdout",
     "output_type": "stream",
     "text": [
      "15.848249027237355\n"
     ]
    }
   ],
   "source": [
    "budget = 100\n",
    "\n",
    "num_shirts = 3\n",
    "cost_per_shirt = 11\n",
    "num_socks = 4 \n",
    "cost_per_socks = 2.57\n",
    "num_pants = 1 \n",
    "cost_per_pants = 15.99\n",
    "\n",
    "total = 100 - (num_shirts * cost_per_shirt + num_socks * cost_per_socks + num_pants * cost_per_pants)\n",
    "\n",
    "socks_total = total / cost_per_socks\n",
    "\n",
    "print(socks_total)"
   ]
  },
  {
   "cell_type": "markdown",
   "metadata": {
    "id": "LC33VVwdWCk5"
   },
   "source": [
    "#### **Exercise #7:** Find the errors in the code below and fix them so that it can run properly."
   ]
  },
  {
   "cell_type": "code",
   "execution_count": 18,
   "metadata": {
    "collapsed": true,
    "id": "f-iCLhA-WCk5",
    "jupyter": {
     "outputs_hidden": true
    },
    "tags": []
   },
   "outputs": [
    {
     "ename": "TypeError",
     "evalue": "'str' object is not callable",
     "output_type": "error",
     "traceback": [
      "\u001b[0;31m---------------------------------------------------------------------------\u001b[0m",
      "\u001b[0;31mTypeError\u001b[0m                                 Traceback (most recent call last)",
      "Input \u001b[0;32mIn [18]\u001b[0m, in \u001b[0;36m<cell line: 6>\u001b[0;34m()\u001b[0m\n\u001b[1;32m      2\u001b[0m persimmons \u001b[38;5;241m=\u001b[39m \u001b[38;5;241m2\u001b[39m\n\u001b[1;32m      4\u001b[0m fruits_1 \u001b[38;5;241m=\u001b[39m \u001b[38;5;28mint\u001b[39m(peaches \u001b[38;5;241m+\u001b[39m persimmons)\n\u001b[0;32m----> 6\u001b[0m \u001b[38;5;28;43mprint\u001b[39;49m\u001b[43m(\u001b[49m\u001b[43mfruits_1\u001b[49m\u001b[43m)\u001b[49m\n",
      "\u001b[0;31mTypeError\u001b[0m: 'str' object is not callable"
     ]
    }
   ],
   "source": [
    "peaches = 4\n",
    "persimmons = 2\n",
    "\n",
    "fruits = peaches + persimmons\n",
    "\n",
    "print(fruits)"
   ]
  },
  {
   "cell_type": "markdown",
   "metadata": {
    "id": "Q4ODMtwSWCk5"
   },
   "source": [
    "#### **Exercise #8:** Find and correct the errors in the code below."
   ]
  },
  {
   "cell_type": "code",
   "execution_count": 15,
   "metadata": {
    "id": "eSNOO8jRWCk5"
   },
   "outputs": [],
   "source": [
    "print(\"HelloWorld\")"
   ]
  },
  {
   "cell_type": "markdown",
   "metadata": {
    "id": "MgDIZz52WCk6"
   },
   "source": [
    "#### **Exercise #9:** Find and fix the errors in the code below."
   ]
  },
  {
   "cell_type": "code",
   "execution_count": 20,
   "metadata": {
    "collapsed": true,
    "id": "yNSHYmDWWCk6",
    "jupyter": {
     "outputs_hidden": true
    },
    "tags": []
   },
   "outputs": [
    {
     "ename": "TypeError",
     "evalue": "'str' object is not callable",
     "output_type": "error",
     "traceback": [
      "\u001b[0;31m---------------------------------------------------------------------------\u001b[0m",
      "\u001b[0;31mTypeError\u001b[0m                                 Traceback (most recent call last)",
      "Input \u001b[0;32mIn [20]\u001b[0m, in \u001b[0;36m<cell line: 5>\u001b[0;34m()\u001b[0m\n\u001b[1;32m      2\u001b[0m pages_total \u001b[38;5;241m=\u001b[39m \u001b[38;5;241m1001\u001b[39m\n\u001b[1;32m      4\u001b[0m average_book_length \u001b[38;5;241m=\u001b[39m (pages_total \u001b[38;5;241m*\u001b[39m books) \u001b[38;5;241m/\u001b[39m books\n\u001b[0;32m----> 5\u001b[0m \u001b[38;5;28;43mprint\u001b[39;49m\u001b[43m(\u001b[49m\u001b[43maverage_book_length\u001b[49m\u001b[43m)\u001b[49m\n",
      "\u001b[0;31mTypeError\u001b[0m: 'str' object is not callable"
     ]
    }
   ],
   "source": [
    "books = 4\n",
    "pages_total = 1001\n",
    "\n",
    "average_book_length = (pages_total * books) / books\n",
    "print(average_book_length)"
   ]
  },
  {
   "cell_type": "markdown",
   "metadata": {
    "id": "X2nI-hL8WCk6",
    "tags": []
   },
   "source": [
    "#### **Exercise #10:** Comment out lines below so that the message \"Welcome to week 2 of Quantum Computing\" is printed."
   ]
  },
  {
   "cell_type": "code",
   "execution_count": null,
   "metadata": {
    "id": "V4cHNpXbWCk6"
   },
   "outputs": [],
   "source": [
    "course = \"Quantum Computing\"\n",
    "\n",
    "print(\"Welcome\")\n",
    "print(\"to week\")\n",
    "#print(1)\n",
    "#print(4)\n",
    "print(2)\n",
    "#print(3)\n",
    "#print(\"off\")\n",
    "print(\"of\")\n",
    "#print(\"off\")\n",
    "#print(\"Classical\")\n",
    "print(course)\n",
    "#print(\"Computing\")"
   ]
  },
  {
   "cell_type": "markdown",
   "metadata": {
    "id": "3SoiyxROWCk6"
   },
   "source": [
    "#### **Exercise #11:** The code below is fully written and working as intended. But, it needs comments explaining what it is doing! Write one sentence in each blank comment explaining the code beneath it. The first comment is already completed for you. NOTE: there are many correct answers to this problem! Just make your comments are brief and helpful."
   ]
  },
  {
   "cell_type": "code",
   "execution_count": null,
   "metadata": {
    "id": "w6iVQGm_WCk6"
   },
   "outputs": [],
   "source": [
    "# set my age and my friend's age\n",
    "my_age = 30\n",
    "friends_age = 34\n",
    "\n",
    "# multiplying my age and my friend's age by 12\n",
    "my_age = my_age * 12\n",
    "friends_age = friends_age * 12\n",
    "\n",
    "# subtracting our ages and printing the difference\n",
    "diff = friends_age - my_age\n",
    "print(diff)"
   ]
  },
  {
   "cell_type": "markdown",
   "metadata": {
    "id": "7ibIwi7hde3d"
   },
   "source": [
    "#### **Exercise #12:** Complete the function below so that it multiplies the two arguments and prints \"Those multiply together to be [result of multiplication]\". "
   ]
  },
  {
   "cell_type": "code",
   "execution_count": 22,
   "metadata": {
    "id": "7bWi38HUde3e"
   },
   "outputs": [],
   "source": [
    "def mult(num1, num2):\n",
    "\n",
    "  m = num1 * num2\n",
    "   \n",
    "  return(\"Those multiply together to be \" + m) "
   ]
  },
  {
   "cell_type": "markdown",
   "metadata": {
    "id": "HAiEbDgzeRNB"
   },
   "source": [
    "#### **Exercise #13:** Complete the function below so that it returns the result of checking if the argument is equal to 10."
   ]
  },
  {
   "cell_type": "code",
   "execution_count": 26,
   "metadata": {
    "id": "6lSQ-w6EeRNB"
   },
   "outputs": [],
   "source": [
    "def equals_10(num):\n",
    "  x = num == 10\n",
    "  return(x)  "
   ]
  },
  {
   "cell_type": "markdown",
   "metadata": {
    "id": "aBT5kcMXejxi"
   },
   "source": [
    "#### **Exercise #14:** Complete the function below so that it prints out the two arguments (`name1` and `name2`) on their own lines and returns the string \"Welcome, [name 1] and [name 2]\"."
   ]
  },
  {
   "cell_type": "code",
   "execution_count": 28,
   "metadata": {
    "id": "DFzvvMzdejxj"
   },
   "outputs": [],
   "source": [
    "def welcome(name1, name2):\n",
    "\n",
    "  print(name1)\n",
    "  print(name2)\n",
    "\n",
    "  return(\"Welcome, \" + name1 + \" and \" + name2)"
   ]
  },
  {
   "cell_type": "markdown",
   "metadata": {
    "id": "xY54dbQKfJ0H"
   },
   "source": [
    "#### **Exercise #15:** Print the 0th element of the list below."
   ]
  },
  {
   "cell_type": "code",
   "execution_count": 30,
   "metadata": {
    "collapsed": true,
    "id": "4iXIaUAIfJ0R",
    "jupyter": {
     "outputs_hidden": true
    },
    "tags": []
   },
   "outputs": [
    {
     "ename": "TypeError",
     "evalue": "'str' object is not callable",
     "output_type": "error",
     "traceback": [
      "\u001b[0;31m---------------------------------------------------------------------------\u001b[0m",
      "\u001b[0;31mTypeError\u001b[0m                                 Traceback (most recent call last)",
      "Input \u001b[0;32mIn [30]\u001b[0m, in \u001b[0;36m<cell line: 2>\u001b[0;34m()\u001b[0m\n\u001b[1;32m      1\u001b[0m my_list \u001b[38;5;241m=\u001b[39m [\u001b[38;5;124m\"\u001b[39m\u001b[38;5;124mapples\u001b[39m\u001b[38;5;124m\"\u001b[39m, \u001b[38;5;124m\"\u001b[39m\u001b[38;5;124mpears\u001b[39m\u001b[38;5;124m\"\u001b[39m, \u001b[38;5;124m\"\u001b[39m\u001b[38;5;124mbananas\u001b[39m\u001b[38;5;124m\"\u001b[39m]\n\u001b[0;32m----> 2\u001b[0m \u001b[38;5;28;43mprint\u001b[39;49m\u001b[43m(\u001b[49m\u001b[43mmy_list\u001b[49m\u001b[43m[\u001b[49m\u001b[38;5;241;43m0\u001b[39;49m\u001b[43m]\u001b[49m\u001b[43m)\u001b[49m\n",
      "\u001b[0;31mTypeError\u001b[0m: 'str' object is not callable"
     ]
    }
   ],
   "source": [
    "my_list = [\"apples\", \"pears\", \"bananas\"]\n",
    "print(my_list[0])"
   ]
  },
  {
   "cell_type": "markdown",
   "metadata": {
    "id": "yxC5vdLkfaiA"
   },
   "source": [
    "#### **Exercise #16:** Multiply the elements of the list below and print the result."
   ]
  },
  {
   "cell_type": "code",
   "execution_count": 33,
   "metadata": {
    "collapsed": true,
    "id": "dWGcbfu6faiB",
    "jupyter": {
     "outputs_hidden": true
    },
    "tags": []
   },
   "outputs": [
    {
     "ename": "TypeError",
     "evalue": "'str' object is not callable",
     "output_type": "error",
     "traceback": [
      "\u001b[0;31m---------------------------------------------------------------------------\u001b[0m",
      "\u001b[0;31mTypeError\u001b[0m                                 Traceback (most recent call last)",
      "Input \u001b[0;32mIn [33]\u001b[0m, in \u001b[0;36m<cell line: 3>\u001b[0;34m()\u001b[0m\n\u001b[1;32m      1\u001b[0m my_list \u001b[38;5;241m=\u001b[39m [\u001b[38;5;241m-\u001b[39m\u001b[38;5;241m0.5\u001b[39m, \u001b[38;5;241m1000\u001b[39m, \u001b[38;5;241m-\u001b[39m\u001b[38;5;241m2\u001b[39m]\n\u001b[1;32m      2\u001b[0m total \u001b[38;5;241m=\u001b[39m my_list[\u001b[38;5;241m0\u001b[39m] \u001b[38;5;241m*\u001b[39m my_list[\u001b[38;5;241m1\u001b[39m] \u001b[38;5;241m*\u001b[39m my_list[\u001b[38;5;241m2\u001b[39m]\n\u001b[0;32m----> 3\u001b[0m \u001b[38;5;28;43mprint\u001b[39;49m\u001b[43m(\u001b[49m\u001b[43mtotal\u001b[49m\u001b[43m)\u001b[49m\n",
      "\u001b[0;31mTypeError\u001b[0m: 'str' object is not callable"
     ]
    }
   ],
   "source": [
    "my_list = [-0.5, 1000, -2]\n",
    "total = my_list[0] * my_list[1] * my_list[2]\n",
    "print(total)"
   ]
  },
  {
   "cell_type": "markdown",
   "metadata": {
    "id": "XpYVxnaSftfi"
   },
   "source": [
    "#### **Exercise #17:** Modify the list below so that it looks like: [1, 2, 3, 4]."
   ]
  },
  {
   "cell_type": "code",
   "execution_count": 35,
   "metadata": {
    "id": "xnByWbV8ftfj"
   },
   "outputs": [
    {
     "ename": "TypeError",
     "evalue": "'str' object is not callable",
     "output_type": "error",
     "traceback": [
      "\u001b[0;31m---------------------------------------------------------------------------\u001b[0m",
      "\u001b[0;31mTypeError\u001b[0m                                 Traceback (most recent call last)",
      "Input \u001b[0;32mIn [35]\u001b[0m, in \u001b[0;36m<cell line: 3>\u001b[0;34m()\u001b[0m\n\u001b[1;32m      1\u001b[0m my_list \u001b[38;5;241m=\u001b[39m [\u001b[38;5;241m0\u001b[39m, \u001b[38;5;241m1\u001b[39m, \u001b[38;5;241m2\u001b[39m, \u001b[38;5;241m5\u001b[39m]\n\u001b[1;32m      2\u001b[0m my_list[\u001b[38;5;241m0\u001b[39m] \u001b[38;5;241m=\u001b[39m \u001b[38;5;241m1\u001b[39m\n\u001b[0;32m----> 3\u001b[0m \u001b[38;5;28;43mprint\u001b[39;49m\u001b[43m(\u001b[49m\u001b[43mmy_list\u001b[49m\u001b[43m)\u001b[49m\n",
      "\u001b[0;31mTypeError\u001b[0m: 'str' object is not callable"
     ]
    }
   ],
   "source": [
    "my_list = [0, 1, 2, 5]\n",
    "my_list[0] = 1"
   ]
  },
  {
   "cell_type": "markdown",
   "metadata": {
    "id": "i8BPMyQ8gRYt"
   },
   "source": [
    "#### **Exercise #18:** You're going to the grocery store and want to use python to store your grocery list. You realize that you already have cereal and milk, but need bread and cheese. *Replace* \"cereal\" and \"milk\" with \"bread\" and \"cheese\" in the list below. Print the updated list."
   ]
  },
  {
   "cell_type": "code",
   "execution_count": 37,
   "metadata": {
    "collapsed": true,
    "id": "AaTw1oMvgRYt",
    "jupyter": {
     "outputs_hidden": true
    },
    "tags": []
   },
   "outputs": [
    {
     "ename": "TypeError",
     "evalue": "'str' object is not callable",
     "output_type": "error",
     "traceback": [
      "\u001b[0;31m---------------------------------------------------------------------------\u001b[0m",
      "\u001b[0;31mTypeError\u001b[0m                                 Traceback (most recent call last)",
      "Input \u001b[0;32mIn [37]\u001b[0m, in \u001b[0;36m<cell line: 3>\u001b[0;34m()\u001b[0m\n\u001b[1;32m      1\u001b[0m grocery_list \u001b[38;5;241m=\u001b[39m [\u001b[38;5;124m\"\u001b[39m\u001b[38;5;124mapples\u001b[39m\u001b[38;5;124m\"\u001b[39m, \u001b[38;5;124m\"\u001b[39m\u001b[38;5;124mbananas\u001b[39m\u001b[38;5;124m\"\u001b[39m, \u001b[38;5;124m\"\u001b[39m\u001b[38;5;124mcereal\u001b[39m\u001b[38;5;124m\"\u001b[39m, \u001b[38;5;124m\"\u001b[39m\u001b[38;5;124mmilk\u001b[39m\u001b[38;5;124m\"\u001b[39m, \u001b[38;5;124m\"\u001b[39m\u001b[38;5;124mflour\u001b[39m\u001b[38;5;124m\"\u001b[39m]\n\u001b[1;32m      2\u001b[0m grocery_list[\u001b[38;5;241m2\u001b[39m:\u001b[38;5;241m3\u001b[39m] \u001b[38;5;241m=\u001b[39m [\u001b[38;5;124m\"\u001b[39m\u001b[38;5;124mbread\u001b[39m\u001b[38;5;124m\"\u001b[39m, \u001b[38;5;124m\"\u001b[39m\u001b[38;5;124mcheese\u001b[39m\u001b[38;5;124m\"\u001b[39m]\n\u001b[0;32m----> 3\u001b[0m \u001b[38;5;28;43mprint\u001b[39;49m\u001b[43m(\u001b[49m\u001b[43mgrocery_list\u001b[49m\u001b[43m)\u001b[49m\n",
      "\u001b[0;31mTypeError\u001b[0m: 'str' object is not callable"
     ]
    }
   ],
   "source": [
    "grocery_list = [\"apples\", \"bananas\", \"cereal\", \"milk\", \"flour\"]\n",
    "grocery_list[3:4] = [\"bread\", \"cheese\"]\n",
    "print(grocery_list)"
   ]
  },
  {
   "cell_type": "markdown",
   "metadata": {
    "id": "p1HTQGRwi7nt"
   },
   "source": [
    "#### **Exercise #19:** Create a list containing the elements \"superposition\", \"interference\", and \"entanglement\". Using the list, print out the message \"These are important properties of quantum mechanics: superposition, interference, entanglement\". "
   ]
  },
  {
   "cell_type": "code",
   "execution_count": 38,
   "metadata": {
    "collapsed": true,
    "id": "jBdCo2T4i7nu",
    "jupyter": {
     "outputs_hidden": true
    },
    "tags": []
   },
   "outputs": [
    {
     "ename": "TypeError",
     "evalue": "can only concatenate str (not \"list\") to str",
     "output_type": "error",
     "traceback": [
      "\u001b[0;31m---------------------------------------------------------------------------\u001b[0m",
      "\u001b[0;31mTypeError\u001b[0m                                 Traceback (most recent call last)",
      "Input \u001b[0;32mIn [38]\u001b[0m, in \u001b[0;36m<cell line: 2>\u001b[0;34m()\u001b[0m\n\u001b[1;32m      1\u001b[0m my_list \u001b[38;5;241m=\u001b[39m [\u001b[38;5;124m\"\u001b[39m\u001b[38;5;124msuperposition\u001b[39m\u001b[38;5;124m\"\u001b[39m, \u001b[38;5;124m\"\u001b[39m\u001b[38;5;124minterference\u001b[39m\u001b[38;5;124m\"\u001b[39m, \u001b[38;5;124m\"\u001b[39m\u001b[38;5;124mentanglement\u001b[39m\u001b[38;5;124m\"\u001b[39m]\n\u001b[0;32m----> 2\u001b[0m \u001b[38;5;28mprint\u001b[39m(\u001b[38;5;124;43m\"\u001b[39;49m\u001b[38;5;124;43mThese are important properties of quantum mechanics: \u001b[39;49m\u001b[38;5;124;43m\"\u001b[39;49m\u001b[43m \u001b[49m\u001b[38;5;241;43m+\u001b[39;49m\u001b[43m \u001b[49m\u001b[43mmy_list\u001b[49m)\n",
      "\u001b[0;31mTypeError\u001b[0m: can only concatenate str (not \"list\") to str"
     ]
    }
   ],
   "source": [
    "my_list = [\"superposition\", \"interference\", \"entanglement\"]\n",
    "print(\"These are important properties of quantum mechanics: \" , my_list)"
   ]
  },
  {
   "cell_type": "markdown",
   "metadata": {
    "id": "A0ljpx5-j1Bo"
   },
   "source": [
    "#### **Exercise #20:** Now, add the element \"measurement\" to the list and print the message \"These are important properties of quantum mechanics: measurement, superposition, entanglement, interference\" (in this exact order)."
   ]
  },
  {
   "cell_type": "code",
   "execution_count": null,
   "metadata": {
    "id": "fUS7TnoLj1Bp"
   },
   "outputs": [],
   "source": [
    "my_list = [\"superposition\", \"interference\", \"entanglement\"]\n",
    "my_list.insert(0, \"measurement\")\n",
    "print(\"These are important properties of quantum mechanics: \" , my_list)"
   ]
  },
  {
   "cell_type": "markdown",
   "metadata": {
    "id": "n-OmBy6v8o-c"
   },
   "source": [
    "#### **Exercise #21:** Complete the function below to return the sum of the first two elements of the list provided."
   ]
  },
  {
   "cell_type": "code",
   "execution_count": 39,
   "metadata": {
    "id": "vAbVa-0S8-Oa"
   },
   "outputs": [],
   "source": [
    "def sum_2(my_list):\n",
    "  x = mylist[0] + mylist[1]\n",
    "  return(x)  "
   ]
  },
  {
   "cell_type": "markdown",
   "metadata": {
    "id": "3NKMjhAphyeZ"
   },
   "source": [
    "#### **Exercise #22:** Comment out lines below so that the function returns a string with only the first three elements of the list provided."
   ]
  },
  {
   "cell_type": "code",
   "execution_count": 40,
   "metadata": {
    "id": "M6Aunk0Whyei"
   },
   "outputs": [],
   "source": [
    "def first_3_string(my_list):\n",
    "\n",
    "  #out = \"\"\n",
    "  #out = out + \" \" + str(my_list)\n",
    "  #out = out + \" \" + str(my_list[3])\n",
    "  out = out + \" \" + str(my_list[0])\n",
    "  #out = out + \" \" + str(my_list[4])\n",
    "  #out = out + \" \" + str(my_list[3])\n",
    "  out = out + \" \" + str(my_list[1])\n",
    "  #out = out + \" \" + str(my_list[3])\n",
    "  out = out + \" \" + str(my_list[2])\n",
    "\n",
    "  return out"
   ]
  },
  {
   "cell_type": "markdown",
   "metadata": {
    "id": "Zwmzj6kSi7nv"
   },
   "source": [
    "---\n",
    "© 2022 The Coding School, All rights reserved"
   ]
  }
 ],
 "metadata": {
  "colab": {
   "collapsed_sections": [
    "XEII7aALXP4q",
    "F91f5ZDuVo_g",
    "2BJz9-uvVpGi",
    "DYUKOJHZVpUR",
    "WdBTuDMiVpY0",
    "ECGof-SAVpeE",
    "LC33VVwdWCk5",
    "Q4ODMtwSWCk5",
    "MgDIZz52WCk6",
    "X2nI-hL8WCk6",
    "3SoiyxROWCk6",
    "7ibIwi7hde3d",
    "HAiEbDgzeRNB",
    "aBT5kcMXejxi",
    "xY54dbQKfJ0H",
    "yxC5vdLkfaiA",
    "XpYVxnaSftfi",
    "p1HTQGRwi7nt",
    "A0ljpx5-j1Bo",
    "n-OmBy6v8o-c",
    "3NKMjhAphyeZ"
   ],
   "provenance": []
  },
  "kernelspec": {
   "display_name": "Python 3 (ipykernel)",
   "language": "python",
   "name": "python3"
  },
  "language_info": {
   "codemirror_mode": {
    "name": "ipython",
    "version": 3
   },
   "file_extension": ".py",
   "mimetype": "text/x-python",
   "name": "python",
   "nbconvert_exporter": "python",
   "pygments_lexer": "ipython3",
   "version": "3.8.13"
  },
  "widgets": {
   "application/vnd.jupyter.widget-state+json": {
    "state": {},
    "version_major": 2,
    "version_minor": 0
   }
  }
 },
 "nbformat": 4,
 "nbformat_minor": 4
}
